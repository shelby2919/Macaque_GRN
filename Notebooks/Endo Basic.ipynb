{
 "cells": [
  {
   "cell_type": "code",
   "execution_count": null,
   "metadata": {},
   "outputs": [],
   "source": [
    "directory=\".\"\n",
    "netPath=\"Endo\"\n",
    "netTitle=\"Endothelial GRN\"\n",
    "networkFile='prior_lung_endothelial_macaque_b_bias50_maxComb_sp_10meanEdgesPerGene.tsv'\n",
    "expressionFile=\"scrna_pseudobulk_Endothelial_Log2TPM.txt\"\n",
    "rnaSampleOfInt='Gen_Cap_Ctrl'\n",
    "tfsPerGene=10"
   ]
  },
  {
   "cell_type": "code",
   "execution_count": null,
   "metadata": {},
   "outputs": [],
   "source": [
    "import sys\n",
    "import os.path\n",
    "if \"..\" not in sys.path:\n",
    "    sys.path.append(\"..\")\n",
    "from jp_gene_viz import dNetwork\n",
    "dNetwork.load_javascript_support()\n",
    "# from jp_gene_viz import multiple_network\n",
    "from jp_gene_viz import LExpression\n",
    "LExpression.load_javascript_support()"
   ]
  },
  {
   "cell_type": "code",
   "execution_count": null,
   "metadata": {},
   "outputs": [],
   "source": [
    "###Build object to inspect GRN graphically\n",
    "N=dNetwork.display_network(directory+'/'+netPath+'/'+networkFile)\n",
    "N.title_html.value = netTitle"
   ]
  },
  {
   "cell_type": "code",
   "execution_count": null,
   "metadata": {},
   "outputs": [],
   "source": [
    "###Build object to explore GRN network graphically and generate heatmap of TFs by condition\n",
    "L=LExpression.LinkedExpressionNetwork()\n",
    "L.show()\n",
    "L.load_network(directory+'/'+netPath+'/'+networkFile)\n",
    "L.load_heatmap(directory +'/'+netPath+'/'+expressionFile)\n",
    "N = L.network\n",
    "N.set_title(netTitle)\n",
    "L.expression.transform_dropdown.value = 'Z score'\n",
    "L.expression.apply_transform()"
   ]
  },
  {
   "cell_type": "code",
   "execution_count": null,
   "metadata": {},
   "outputs": [],
   "source": []
  }
 ],
 "metadata": {
  "kernelspec": {
   "display_name": "Python 2",
   "language": "python",
   "name": "python2"
  },
  "language_info": {
   "codemirror_mode": {
    "name": "ipython",
    "version": 2
   },
   "file_extension": ".py",
   "mimetype": "text/x-python",
   "name": "python",
   "nbconvert_exporter": "python",
   "pygments_lexer": "ipython2",
   "version": "2.7.18"
  }
 },
 "nbformat": 4,
 "nbformat_minor": 4
}
